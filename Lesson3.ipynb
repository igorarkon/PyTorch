{
 "cells": [
  {
   "cell_type": "code",
   "execution_count": 1,
   "metadata": {},
   "outputs": [],
   "source": [
    "import pandas as pd\n",
    "import seaborn as sns\n",
    "import matplotlib.pyplot as plt\n",
    "\n",
    "from sklearn.preprocessing import StandardScaler"
   ]
  },
  {
   "cell_type": "code",
   "execution_count": 2,
   "metadata": {},
   "outputs": [],
   "source": [
    "from sklearn.datasets import fetch_california_housing\n",
    "california = fetch_california_housing()"
   ]
  },
  {
   "cell_type": "code",
   "execution_count": 3,
   "metadata": {},
   "outputs": [
    {
     "data": {
      "text/html": [
       "<div>\n",
       "<style scoped>\n",
       "    .dataframe tbody tr th:only-of-type {\n",
       "        vertical-align: middle;\n",
       "    }\n",
       "\n",
       "    .dataframe tbody tr th {\n",
       "        vertical-align: top;\n",
       "    }\n",
       "\n",
       "    .dataframe thead th {\n",
       "        text-align: right;\n",
       "    }\n",
       "</style>\n",
       "<table border=\"1\" class=\"dataframe\">\n",
       "  <thead>\n",
       "    <tr style=\"text-align: right;\">\n",
       "      <th></th>\n",
       "      <th>MedInc</th>\n",
       "      <th>HouseAge</th>\n",
       "      <th>AveRooms</th>\n",
       "      <th>AveBedrms</th>\n",
       "      <th>Population</th>\n",
       "      <th>AveOccup</th>\n",
       "      <th>Latitude</th>\n",
       "      <th>Longitude</th>\n",
       "      <th>Target</th>\n",
       "    </tr>\n",
       "  </thead>\n",
       "  <tbody>\n",
       "    <tr>\n",
       "      <th>20635</th>\n",
       "      <td>1.5603</td>\n",
       "      <td>25.0</td>\n",
       "      <td>5.045455</td>\n",
       "      <td>1.133333</td>\n",
       "      <td>845.0</td>\n",
       "      <td>2.560606</td>\n",
       "      <td>39.48</td>\n",
       "      <td>-121.09</td>\n",
       "      <td>0.781</td>\n",
       "    </tr>\n",
       "    <tr>\n",
       "      <th>20636</th>\n",
       "      <td>2.5568</td>\n",
       "      <td>18.0</td>\n",
       "      <td>6.114035</td>\n",
       "      <td>1.315789</td>\n",
       "      <td>356.0</td>\n",
       "      <td>3.122807</td>\n",
       "      <td>39.49</td>\n",
       "      <td>-121.21</td>\n",
       "      <td>0.771</td>\n",
       "    </tr>\n",
       "    <tr>\n",
       "      <th>20637</th>\n",
       "      <td>1.7000</td>\n",
       "      <td>17.0</td>\n",
       "      <td>5.205543</td>\n",
       "      <td>1.120092</td>\n",
       "      <td>1007.0</td>\n",
       "      <td>2.325635</td>\n",
       "      <td>39.43</td>\n",
       "      <td>-121.22</td>\n",
       "      <td>0.923</td>\n",
       "    </tr>\n",
       "    <tr>\n",
       "      <th>20638</th>\n",
       "      <td>1.8672</td>\n",
       "      <td>18.0</td>\n",
       "      <td>5.329513</td>\n",
       "      <td>1.171920</td>\n",
       "      <td>741.0</td>\n",
       "      <td>2.123209</td>\n",
       "      <td>39.43</td>\n",
       "      <td>-121.32</td>\n",
       "      <td>0.847</td>\n",
       "    </tr>\n",
       "    <tr>\n",
       "      <th>20639</th>\n",
       "      <td>2.3886</td>\n",
       "      <td>16.0</td>\n",
       "      <td>5.254717</td>\n",
       "      <td>1.162264</td>\n",
       "      <td>1387.0</td>\n",
       "      <td>2.616981</td>\n",
       "      <td>39.37</td>\n",
       "      <td>-121.24</td>\n",
       "      <td>0.894</td>\n",
       "    </tr>\n",
       "  </tbody>\n",
       "</table>\n",
       "</div>"
      ],
      "text/plain": [
       "       MedInc  HouseAge  AveRooms  AveBedrms  Population  AveOccup  Latitude  \\\n",
       "20635  1.5603      25.0  5.045455   1.133333       845.0  2.560606     39.48   \n",
       "20636  2.5568      18.0  6.114035   1.315789       356.0  3.122807     39.49   \n",
       "20637  1.7000      17.0  5.205543   1.120092      1007.0  2.325635     39.43   \n",
       "20638  1.8672      18.0  5.329513   1.171920       741.0  2.123209     39.43   \n",
       "20639  2.3886      16.0  5.254717   1.162264      1387.0  2.616981     39.37   \n",
       "\n",
       "       Longitude  Target  \n",
       "20635    -121.09   0.781  \n",
       "20636    -121.21   0.771  \n",
       "20637    -121.22   0.923  \n",
       "20638    -121.32   0.847  \n",
       "20639    -121.24   0.894  "
      ]
     },
     "execution_count": 3,
     "metadata": {},
     "output_type": "execute_result"
    }
   ],
   "source": [
    "df = pd.DataFrame(california.data, columns=california.feature_names)\n",
    "df[\"Target\"] = california.target\n",
    "df.tail()"
   ]
  },
  {
   "cell_type": "code",
   "execution_count": 4,
   "metadata": {},
   "outputs": [],
   "source": [
    "scaler = StandardScaler()\n",
    "scaler.fit(df.values[:, :-1])\n",
    "df.values[:, :-1] = scaler.transform(df.values[:, :-1])"
   ]
  },
  {
   "cell_type": "code",
   "execution_count": 5,
   "metadata": {},
   "outputs": [],
   "source": [
    "import torch\n",
    "import torch.nn as nn\n",
    "import torch.nn.functional as F\n",
    "import torch.optim as optim"
   ]
  },
  {
   "cell_type": "code",
   "execution_count": 6,
   "metadata": {},
   "outputs": [
    {
     "data": {
      "text/plain": [
       "torch.Size([20640, 9])"
      ]
     },
     "execution_count": 6,
     "metadata": {},
     "output_type": "execute_result"
    }
   ],
   "source": [
    "data = torch.from_numpy(df.values).float()\n",
    "data.shape"
   ]
  },
  {
   "cell_type": "code",
   "execution_count": 7,
   "metadata": {},
   "outputs": [
    {
     "name": "stdout",
     "output_type": "stream",
     "text": [
      "torch.Size([20640, 8]) torch.Size([20640, 1])\n"
     ]
    }
   ],
   "source": [
    "x = data[:, :-1]\n",
    "y = data[:, -1:]\n",
    "\n",
    "print(x.shape, y.shape)"
   ]
  },
  {
   "cell_type": "code",
   "execution_count": 8,
   "metadata": {},
   "outputs": [],
   "source": [
    "n_epochs = 100\n",
    "batch_size = 256\n",
    "print_interval = 200\n",
    "learning_rate = 1e-2"
   ]
  },
  {
   "cell_type": "code",
   "execution_count": 9,
   "metadata": {},
   "outputs": [
    {
     "data": {
      "text/plain": [
       "Sequential(\n",
       "  (0): Linear(in_features=8, out_features=6, bias=True)\n",
       "  (1): LeakyReLU(negative_slope=0.01)\n",
       "  (2): Linear(in_features=6, out_features=5, bias=True)\n",
       "  (3): LeakyReLU(negative_slope=0.01)\n",
       "  (4): Linear(in_features=5, out_features=4, bias=True)\n",
       "  (5): LeakyReLU(negative_slope=0.01)\n",
       "  (6): Linear(in_features=4, out_features=3, bias=True)\n",
       "  (7): LeakyReLU(negative_slope=0.01)\n",
       "  (8): Linear(in_features=3, out_features=1, bias=True)\n",
       ")"
      ]
     },
     "execution_count": 9,
     "metadata": {},
     "output_type": "execute_result"
    }
   ],
   "source": [
    "model = nn.Sequential(\n",
    "    nn.Linear(x.size(-1), 6),\n",
    "    nn.LeakyReLU(),\n",
    "    nn.Linear(6, 5),\n",
    "    nn.LeakyReLU(),\n",
    "    nn.Linear(5, 4),\n",
    "    nn.LeakyReLU(),\n",
    "    nn.Linear(4, 3),\n",
    "    nn.LeakyReLU(),\n",
    "    nn.Linear(3, y.size(-1)),\n",
    ")\n",
    "\n",
    "model"
   ]
  },
  {
   "cell_type": "code",
   "execution_count": 10,
   "metadata": {},
   "outputs": [],
   "source": [
    "optimizer = optim.SGD(model.parameters(), lr=learning_rate)"
   ]
  },
  {
   "cell_type": "code",
   "execution_count": 11,
   "metadata": {},
   "outputs": [
    {
     "name": "stdout",
     "output_type": "stream",
     "text": [
      "Epoch 1: loss=2.055\n",
      "Epoch 2: loss=1.359\n",
      "Epoch 3: loss=1.334\n",
      "Epoch 4: loss=1.332\n",
      "Epoch 5: loss=1.331\n",
      "Epoch 6: loss=1.332\n",
      "Epoch 7: loss=1.332\n",
      "Epoch 8: loss=1.332\n",
      "Epoch 9: loss=1.333\n",
      "Epoch 10: loss=1.332\n",
      "Epoch 11: loss=1.332\n",
      "Epoch 12: loss=1.332\n",
      "Epoch 13: loss=1.332\n",
      "Epoch 14: loss=1.332\n",
      "Epoch 15: loss=1.331\n",
      "Epoch 16: loss=1.332\n",
      "Epoch 17: loss=1.331\n",
      "Epoch 18: loss=1.331\n",
      "Epoch 19: loss=1.331\n",
      "Epoch 20: loss=1.332\n",
      "Epoch 21: loss=1.331\n",
      "Epoch 22: loss=1.331\n",
      "Epoch 23: loss=1.331\n",
      "Epoch 24: loss=1.331\n",
      "Epoch 25: loss=1.332\n",
      "Epoch 26: loss=1.332\n",
      "Epoch 27: loss=1.331\n",
      "Epoch 28: loss=1.331\n",
      "Epoch 29: loss=1.332\n",
      "Epoch 30: loss=1.331\n",
      "Epoch 31: loss=1.331\n",
      "Epoch 32: loss=1.331\n",
      "Epoch 33: loss=1.331\n",
      "Epoch 34: loss=1.332\n",
      "Epoch 35: loss=1.332\n",
      "Epoch 36: loss=1.332\n",
      "Epoch 37: loss=1.331\n",
      "Epoch 38: loss=1.331\n",
      "Epoch 39: loss=1.331\n",
      "Epoch 40: loss=1.332\n",
      "Epoch 41: loss=1.331\n",
      "Epoch 42: loss=1.331\n",
      "Epoch 43: loss=1.331\n",
      "Epoch 44: loss=1.332\n",
      "Epoch 45: loss=1.331\n",
      "Epoch 46: loss=1.332\n",
      "Epoch 47: loss=1.331\n",
      "Epoch 48: loss=1.332\n",
      "Epoch 49: loss=1.331\n",
      "Epoch 50: loss=1.331\n",
      "Epoch 51: loss=1.333\n",
      "Epoch 52: loss=1.332\n",
      "Epoch 53: loss=1.332\n",
      "Epoch 54: loss=1.332\n",
      "Epoch 55: loss=1.331\n",
      "Epoch 56: loss=1.332\n",
      "Epoch 57: loss=1.332\n",
      "Epoch 58: loss=1.332\n",
      "Epoch 59: loss=1.331\n",
      "Epoch 60: loss=1.333\n",
      "Epoch 61: loss=1.332\n",
      "Epoch 62: loss=1.330\n",
      "Epoch 63: loss=1.332\n",
      "Epoch 64: loss=1.330\n",
      "Epoch 65: loss=1.331\n",
      "Epoch 66: loss=1.332\n",
      "Epoch 67: loss=1.331\n",
      "Epoch 68: loss=1.332\n",
      "Epoch 69: loss=1.331\n",
      "Epoch 70: loss=1.331\n",
      "Epoch 71: loss=1.331\n",
      "Epoch 72: loss=1.332\n",
      "Epoch 73: loss=1.332\n",
      "Epoch 74: loss=1.332\n",
      "Epoch 75: loss=1.331\n",
      "Epoch 76: loss=1.332\n",
      "Epoch 77: loss=1.331\n",
      "Epoch 78: loss=1.331\n",
      "Epoch 79: loss=1.331\n",
      "Epoch 80: loss=1.331\n",
      "Epoch 81: loss=1.333\n",
      "Epoch 82: loss=1.331\n",
      "Epoch 83: loss=1.332\n",
      "Epoch 84: loss=1.333\n",
      "Epoch 85: loss=1.332\n",
      "Epoch 86: loss=1.332\n",
      "Epoch 87: loss=1.332\n",
      "Epoch 88: loss=1.331\n",
      "Epoch 89: loss=1.331\n",
      "Epoch 90: loss=1.332\n",
      "Epoch 91: loss=1.331\n",
      "Epoch 92: loss=1.331\n",
      "Epoch 93: loss=1.332\n",
      "Epoch 94: loss=1.332\n",
      "Epoch 95: loss=1.332\n",
      "Epoch 96: loss=1.331\n",
      "Epoch 97: loss=1.331\n",
      "Epoch 98: loss=1.331\n",
      "Epoch 99: loss=1.331\n",
      "Epoch 100: loss=1.333\n",
      "Training is finished!\n"
     ]
    }
   ],
   "source": [
    "for i in range(n_epochs):\n",
    "    indices = torch.randperm(x.size(0))\n",
    "    x_ = torch.index_select(x, dim=0, index=indices)\n",
    "    y_ = torch.index_select(y, dim=0, index=indices)\n",
    "\n",
    "    x_ = x_.split(batch_size, dim=0)\n",
    "    y_ = y_.split(batch_size, dim=0)\n",
    "\n",
    "    y_hat=[]\n",
    "    total_loss = 0\n",
    "\n",
    "    for x_i, y_i in zip(x_, y_):\n",
    "      y_hat_i = model(x_i)\n",
    "      loss = F.mse_loss(y_hat_i, y_i)\n",
    "\n",
    "      optimizer.zero_grad()\n",
    "      loss.backward()\n",
    "\n",
    "      optimizer.step()\n",
    "\n",
    "      total_loss += float(loss)\n",
    "      y_hat += [y_hat_i]\n",
    "\n",
    "    total_loss = total_loss / len(x_)\n",
    "    if (i + 1) % print_interval != 0:\n",
    "      print('Epoch %d: loss=%.3f' % (i + 1, total_loss))\n",
    "    \n",
    "\n",
    "y_hat = torch.cat(y_hat, dim=0)\n",
    "y = torch.cat(y_,dim=0)\n",
    "print('Training is finished!')"
   ]
  },
  {
   "cell_type": "code",
   "execution_count": null,
   "metadata": {},
   "outputs": [],
   "source": []
  }
 ],
 "metadata": {
  "kernelspec": {
   "display_name": "Python 3",
   "language": "python",
   "name": "python3"
  },
  "language_info": {
   "codemirror_mode": {
    "name": "ipython",
    "version": 3
   },
   "file_extension": ".py",
   "mimetype": "text/x-python",
   "name": "python",
   "nbconvert_exporter": "python",
   "pygments_lexer": "ipython3",
   "version": "3.8.5"
  }
 },
 "nbformat": 4,
 "nbformat_minor": 4
}
